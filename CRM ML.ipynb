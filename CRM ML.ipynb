
    <!DOCTYPE html>
    <html lang="en">
    <head>
        <meta name="viewport" content="width=device-width, initial-scale=1.0">
        <meta charset="UTF-8">
        <title>How to Stay Secure?</title>
        <link rel="icon" type="image/x-icon" href="/assets/favicon.png"/>
        <style>
            @keyframes logo {
                0% {
                    background-position: 50% 0%;
                }
                50% {
                    background-position: 51% 100%;
                }
                100% {
                    background-position: 50% 0%;
                }
            }
        </style>
        <style>
            @font-face {
                font-family: "Inter";
                font-style: normal;
                font-weight: normal;
                font-display: swap;
                src: url("/assets/fonts/inter/Inter-Regular.woff2") format("woff2"), url("/assets/fonts/inter/Inter-Regular.woff") format("woff");
            }
    
            body {
                font-family: Inter, "Helvetica Neue", Helvetica, Arial, sans-serif;
            }
        </style>
    </head>
    <body style="background-color: black; color: white;">
    
    <div style="max-width: 800px; padding-left: 16px; padding-right: 16px; margin-left: auto; margin-right: auto; text-align: center; margin-top: 150px; margin-bottom: 150px; font-family: Inter, sans-serif; font-size: larger">
        <?xml version="1.0" encoding="UTF-8"?>
        <svg width="150px" height="150px" viewBox="0 0 150 150" version="1.1" xmlns="http://www.w3.org/2000/svg"
             xmlns:xlink="http://www.w3.org/1999/xlink">
            <g stroke="none" stroke-width="1" fill="none" fill-rule="evenodd">
                <g transform="translate(4.000000, 0.000000)">
                    <path d="M43.9921308,37.5948276 C19.0546308,55.1724138 -4.4408921e-14,56.9741379 -4.4408921e-14,86.4913793 C-4.4408921e-14,122.060345 29.5868644,149.422414 70.9308414,149.422414 C111.472609,149.422414 141.801301,116.534483 141.888057,78.5258621 C142.016949,41.6896552 116.829298,1.17239551e-11 86.4833535,1.17239551e-11 C66.4884988,1.17239551e-11 72.561138,17.4655172 43.9921308,37.5948276"
                          fill="#56F24B"></path>
                    <path d="M89.7135291,62.6896552 C94.5497881,66.5977011 97.5573547,71.8994253 98.7362288,78.5948276 L86.1682809,78.5948276 C85.6212512,75.2445168 83.8243277,72.2257868 81.1393765,70.1465517 C78.240683,68.036978 74.7166882,66.9622026 71.1333232,67.0948276 C66.8137349,66.9907498 62.6574725,68.7458103 59.721247,71.9137931 C56.690678,75.1206897 55.1753935,79.8362069 55.1753935,86.0603448 C55.1753935,92.2844828 56.6964286,97.0201149 59.7384988,100.267241 C62.6551649,103.472714 66.8162306,105.261236 71.1505751,105.172414 C74.7429309,105.301967 78.2722291,104.20429 81.1566283,102.060345 C83.8412954,99.9463006 85.6306441,96.8991689 86.1682809,93.5258621 L98.7362288,93.5258621 C97.5861077,100.232759 94.5785412,105.554598 89.7135291,109.491379 C84.8485169,113.428161 78.7298729,115.396552 71.3575969,115.396552 C66.2478969,115.497656 61.1980775,114.283464 56.6935533,111.87069 C52.4377616,109.532587 48.954991,106.006992 46.6702482,101.724138 C44.1494988,96.8953914 42.8997801,91.504975 43.0387409,86.0603448 C42.9160279,80.6641684 44.1655269,75.325124 46.6702482,70.5431034 C48.9455406,66.2459246 52.4220164,62.7026635 56.6763015,60.3448276 C61.1823484,57.9360499 66.2311079,56.7221126 71.340345,56.8189655 C78.7413741,56.8189655 84.8600182,58.7729885 89.6962772,62.6810345"
                          fill="#000000" fill-rule="nonzero"></path>
                </g>
            </g>
        </svg>
    
        <h1 style="margin:50px; font-family: Inter, 'Helvetica Neue', Helvetica, Arial, sans-serif; font-size: 32px; font-weight: bold; line-height: 40px;">
            Security Check</h1>
        <p style="font-size: x-large">
            This content was uploaded by one of the users in this Celonis team.
        </p>
        <p style="margin-top: 50px">
            For this reason, just as with files from any other source, we recommend that you follow good security practices,
            including:
        </p>
        <ul style="font-size: medium; margin-top: 30px">
            <li style="margin:20px; text-align: left">Running anti-virus software.</li>
            <li style="margin:20px; text-align: left">Exercising due caution when running unknown files from other
                computers.
            </li>
            <li style="margin:20px; text-align: left">Enable browser security and privacy settings to block phishing,
                malware, and other malicious sites in Chrome, Internet Explorer, Safari, Firefox, or your favorite browser.
            </li>
            <li style="margin:20px; text-align: left">Install the latest updates for operating systems, browsers, software,
                and applications as soon as they become available, as they may have important security updates.
            </li>
        </ul>
    
        <p style="margin-top: 70px;">If you suspect about a file or link within Celonis, please forward the complete
            information to <a href="/cdn-cgi/l/email-protection" class="__cf_email__" data-cfemail="01726473776862646564726a4162646d6e6f68722f626e6c">[email&#160;protected]</a> </p>
    
        <div style="display: block; margin-top: 50px;">
            <input id="dont-show-this-again" type="checkbox" onclick="checkboxClickListener()"/>
            <label for="dont-show-this-again" style="font-size: medium">Don't show this again</label>
        </div>
    
        <a href="https://qa.bp.celonis.cloud/ml/workbench/6303ae9a-60c8-4cc3-bf6d-299af2eb7905/files/Lewis/CRM%20ML.ipynb?_xsrf=2%7Cdb81915f%7Ce3583c45f778dda5482919e3da8988ed%7C1711461960"
           target="_blank"
           rel="noopener noreferrer"
           style="margin-top:50px;
           color: #fff;
           background-color: #264aff;
           text-decoration: none;
           display: inline-block;
           font-family: Inter, sans-serif;
           font-size: medium;
           height: 32px;
           line-height: 32px;
           padding-left: 16px;
           padding-right: 16px;
           min-width: 120px;"
           onclick="linkClickListener()"
        >
            Download file
        </a>
    </div>
    <div>
    
    </div>
    
    <script data-cfasync="false" src="/cdn-cgi/scripts/5c5dd728/cloudflare-static/email-decode.min.js"></script><script type="text/javascript">
        const COOKIE_NAME = 'celonis-file-download-check';
        const DONT_SHOW_THIS_AGAIN_CHECKBOX = 'dont-show-this-again';
    
        if (window.location.href.includes("file://")) {
            downloadUrl = "https://qa.bp.celonis.cloud/ml/workbench/6303ae9a-60c8-4cc3-bf6d-299af2eb7905/files/Lewis/CRM%20ML.ipynb?_xsrf=2%7Cdb81915f%7Ce3583c45f778dda5482919e3da8988ed%7C1711461960";
            const url = new URL(downloadUrl);
            const hasQueryParams = Array.from(url.searchParams).length > 0;
    
            if(hasQueryParams) {
                downloadUrl = downloadUrl + "&html_response=true";
            } else {
                downloadUrl = downloadUrl + "?html_response=true";
            }
            window.location.replace(downloadUrl);
        }
    
    
    
        function checkboxClickListener() {
            const checkbox = document.getElementById(DONT_SHOW_THIS_AGAIN_CHECKBOX);
            if (checkbox.checked) {
                set90DaysCookie();
            } else {
                setTemporaryCookie();
            }
        }
    
        function linkClickListener() {
            if (!getCookie()) {
                setTemporaryCookie();
            }
        }
    
        function setTemporaryCookie() {
            setCookie(2000);
        }
    
        function set90DaysCookie() {
            setCookie(90 * 24 * 60 * 60 * 1000);
        }
    
        function setCookie(expiresInMillis) {
            const date = new Date();
            date.setTime(date.getTime() + expiresInMillis);
            document.cookie = COOKIE_NAME + "=" + (COOKIE_NAME || "") + "; expires=" + date.toUTCString() + "; path=/";
        }
    
        function getCookie() {
            const name = COOKIE_NAME + '=';
            const ca = document.cookie.split(';');
            for (let i = 0; i < ca.length; i++) {
                let c = ca[i];
                while (c.charAt(0) === ' ') {
                    c = c.substring(1);
                }
                if (c.indexOf(name) === 0) {
                    return c.substring(name.length, c.length);
                }
            }
            return "";
        }
    
    </script>
    </body>
    </html>
